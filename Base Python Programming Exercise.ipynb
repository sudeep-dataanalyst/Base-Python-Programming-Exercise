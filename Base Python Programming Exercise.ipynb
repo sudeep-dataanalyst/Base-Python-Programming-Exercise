{
 "cells": [
  {
   "cell_type": "markdown",
   "metadata": {},
   "source": [
    "## Python Basic Programming Exercises"
   ]
  },
  {
   "cell_type": "raw",
   "metadata": {},
   "source": [
    "Q1: What is the output of following expression\n",
    "    5 + 4 * 9 % (3 + 1) / 6 - 1"
   ]
  },
  {
   "cell_type": "code",
   "execution_count": 1,
   "metadata": {},
   "outputs": [
    {
     "data": {
      "text/plain": [
       "4.0"
      ]
     },
     "execution_count": 1,
     "metadata": {},
     "output_type": "execute_result"
    }
   ],
   "source": [
    "  5 + 4 * 9 % (3 + 1) / 6 - 1"
   ]
  },
  {
   "cell_type": "raw",
   "metadata": {},
   "source": [
    "Q2: Write a program to check if a Number is Odd or Even. Take number as a input from user at runtime."
   ]
  },
  {
   "cell_type": "code",
   "execution_count": 5,
   "metadata": {},
   "outputs": [
    {
     "name": "stdin",
     "output_type": "stream",
     "text": [
      "Enter a Number: 14\n"
     ]
    },
    {
     "name": "stdout",
     "output_type": "stream",
     "text": [
      "Number is Even\n"
     ]
    }
   ],
   "source": [
    "Number = int(input(\"Enter a Number:\",))\n",
    "if Number %2 == 0:\n",
    "    print(\"Number is Even\")\n",
    "else :\n",
    "    print(\"Number is Odd\")"
   ]
  },
  {
   "cell_type": "raw",
   "metadata": {},
   "source": [
    "Q3: Write a program to display the multiplication table by taking a number as input. \n",
    "    [Hint : Use print statement inside of a loop]"
   ]
  },
  {
   "cell_type": "code",
   "execution_count": 13,
   "metadata": {},
   "outputs": [
    {
     "name": "stdin",
     "output_type": "stream",
     "text": [
      "Number for Multiplication table: 2\n"
     ]
    },
    {
     "name": "stdout",
     "output_type": "stream",
     "text": [
      "2 X 1 = 2\n",
      "2 X 2 = 4\n",
      "2 X 3 = 6\n",
      "2 X 4 = 8\n",
      "2 X 5 = 10\n",
      "2 X 6 = 12\n",
      "2 X 7 = 14\n",
      "2 X 8 = 16\n",
      "2 X 9 = 18\n",
      "2 X 10 = 20\n"
     ]
    }
   ],
   "source": [
    "N = int(input(\"Number for Multiplication table:\",))\n",
    "for i in range(1,11):\n",
    "    print(f\"{N} X {i} = {N * i}\")"
   ]
  },
  {
   "cell_type": "raw",
   "metadata": {},
   "source": [
    "Q4: Write a program which will find all numbers between 2000 and 3200 which are divisible by 7 \n",
    "    but are not a multiple of 5.\n",
    " \n",
    "Note: The numbers obtained should be printed in a comma-separated sequence on a single line."
   ]
  },
  {
   "cell_type": "code",
   "execution_count": 32,
   "metadata": {},
   "outputs": [
    {
     "name": "stdout",
     "output_type": "stream",
     "text": [
      "2002,2009,2016,2023,2037,2044,2051,2058,2072,2079,2086,2093,2107,2114,2121,2128,2142,2149,2156,2163,2177,2184,2191,2198,2212,2219,2226,2233,2247,2254,2261,2268,2282,2289,2296,2303,2317,2324,2331,2338,2352,2359,2366,2373,2387,2394,2401,2408,2422,2429,2436,2443,2457,2464,2471,2478,2492,2499,2506,2513,2527,2534,2541,2548,2562,2569,2576,2583,2597,2604,2611,2618,2632,2639,2646,2653,2667,2674,2681,2688,2702,2709,2716,2723,2737,2744,2751,2758,2772,2779,2786,2793,2807,2814,2821,2828,2842,2849,2856,2863,2877,2884,2891,2898,2912,2919,2926,2933,2947,2954,2961,2968,2982,2989,2996,3003,3017,3024,3031,3038,3052,3059,3066,3073,3087,3094,3101,3108,3122,3129,3136,3143,3157,3164,3171,3178,3192,3199\n"
     ]
    }
   ],
   "source": [
    "Result = []\n",
    "for i in range(2000,3201):\n",
    "    if i %7 == 0 and i %5 != 0:\n",
    "        Result.append(str(i))\n",
    "print(\",\".join(Result))   "
   ]
  },
  {
   "cell_type": "raw",
   "metadata": {},
   "source": [
    "Q5: Count the elements of each datatype inside the list and display in output\n",
    "    [2, 3, 'Py', '10', 1, 'SQL', 5.5, True, 3, 'John', None, 7]    "
   ]
  },
  {
   "cell_type": "code",
   "execution_count": 41,
   "metadata": {},
   "outputs": [
    {
     "name": "stdout",
     "output_type": "stream",
     "text": [
      "count of integer: 5\n",
      "count of float: 1\n",
      "count of string: 4\n",
      "count of bool: 1\n",
      "count of nonetype: 1\n"
     ]
    }
   ],
   "source": [
    "lst =  [2, 3, 'Py', '10', 1, 'SQL', 5.5, True, 3, 'John', None, 7] \n",
    "\n",
    "int_c = 0\n",
    "float_c = 0\n",
    "str_c = 0\n",
    "bool_c = 0\n",
    "Nonetype_c = 0\n",
    "\n",
    "for i in lst:\n",
    "    if type(i) == int:\n",
    "        int_c  += 1\n",
    "    elif type(i) == float:\n",
    "        float_c += 1\n",
    "    elif type(i) == str:\n",
    "        str_c += 1\n",
    "    elif type(i) == bool:\n",
    "        bool_c += 1\n",
    "    else:\n",
    "        Nonetype_c += 1\n",
    "\n",
    "print(\"count of integer:\", int_c)\n",
    "print(\"count of float:\", float_c)\n",
    "print(\"count of string:\", str_c)\n",
    "print(\"count of bool:\", bool_c)\n",
    "print(\"count of nonetype:\", Nonetype_c)\n"
   ]
  },
  {
   "cell_type": "raw",
   "metadata": {},
   "source": [
    "Q6: Add all values from the list with numeric datatypes \n",
    "    [2, 3, 'Py', '10', 1, 'SQL', 5.5, True, 3, 'John', None, 7] "
   ]
  },
  {
   "cell_type": "code",
   "execution_count": 2,
   "metadata": {},
   "outputs": [
    {
     "name": "stdout",
     "output_type": "stream",
     "text": [
      "total_sum of all numeric datatypes: 21.5\n"
     ]
    }
   ],
   "source": [
    "lst = [2, 3, 'Py', '10', 1, 'SQL', 5.5, True, 3, 'John', None, 7] \n",
    "result = 0\n",
    "for i in lst:\n",
    "    if type(i) == int or type(i) == float:\n",
    "        result += i\n",
    "print(\"total_sum of all numeric datatypes:\",result)"
   ]
  },
  {
   "cell_type": "raw",
   "metadata": {},
   "source": [
    "Q7: Concat all str datatypes with hyphen as a delimiter\n",
    "    [2, 3, 'Py', '10', 1, 'SQL', 5.5, True, 3, 'John', None, 7] "
   ]
  },
  {
   "cell_type": "code",
   "execution_count": 3,
   "metadata": {},
   "outputs": [
    {
     "name": "stdout",
     "output_type": "stream",
     "text": [
      "Py-10-SQL-John\n"
     ]
    }
   ],
   "source": [
    "lst =  [2, 3, 'Py', '10', 1, 'SQL', 5.5, True, 3, 'John', None, 7] \n",
    "concatenated_string = \"\"\n",
    "for i in lst:\n",
    "    if type(i) == str:\n",
    "        concatenated_string += i + \"-\"\n",
    "concatenated_string = concatenated_string.rstrip(\"-\")\n",
    "print(concatenated_string)"
   ]
  },
  {
   "cell_type": "raw",
   "metadata": {},
   "source": [
    "Q8: Write a UDF that takes list as input and returns sum of all numbers \n",
    "    (exclude bool) and count of all str \n",
    "    [2, 3, 'Py', '10', 1, 'SQL', 5.5, True, 3, 'John', None, 7] \n",
    "    \n",
    "Hint:\n",
    "-----\n",
    "def my_func:\n",
    "    # your code\n",
    "        \n",
    "my_func(l1)\n",
    "# output --> {'Sum': xxx, 'Count_of_Strs': xxx}"
   ]
  },
  {
   "cell_type": "code",
   "execution_count": 7,
   "metadata": {},
   "outputs": [
    {
     "data": {
      "text/plain": [
       "{'Sum': 21.5, 'Count_0f_Strs': 0}"
      ]
     },
     "execution_count": 7,
     "metadata": {},
     "output_type": "execute_result"
    }
   ],
   "source": [
    "def Sum_count(l1):\n",
    "    Sum_num = 0\n",
    "    count_str = 0\n",
    "    for i in lst :\n",
    "        if type(i) == int or type(i) == float :\n",
    "            Sum_num += i\n",
    "        # elif type(i) == str:\n",
    "        #     count_str += 1\n",
    "    return {'Sum' : Sum_num, 'Count_0f_Strs': count_str}\n",
    "Sum_count(lst)"
   ]
  },
  {
   "cell_type": "raw",
   "metadata": {},
   "source": [
    "Q9: Get only odd numbers from the following list and store the numbers in new list\n",
    "    li = [5, 7, 22, 97, 54, 62, 77, 23, 73, 61]\n",
    "\n",
    "    i. Use loops to get the answer\n",
    "   ii. Use list comprehensions\n",
    "  iii. Use lambda function with filter"
   ]
  },
  {
   "cell_type": "code",
   "execution_count": 93,
   "metadata": {},
   "outputs": [
    {
     "name": "stdout",
     "output_type": "stream",
     "text": [
      "Odd numbers: [5, 7, 97, 77, 23, 73, 61]\n"
     ]
    }
   ],
   "source": [
    "#i\n",
    "li = [5, 7, 22, 97, 54, 62, 77, 23, 73, 61]\n",
    "odd_no = []\n",
    "for i in li:\n",
    "    if i %2 != 0:\n",
    "        odd_no.append(i)\n",
    "print(\"Odd Numbers:\",odd_no)"
   ]
  },
  {
   "cell_type": "code",
   "execution_count": 97,
   "metadata": {},
   "outputs": [
    {
     "name": "stdout",
     "output_type": "stream",
     "text": [
      "Odd Numbers: [5, 7, 97, 77, 23, 73, 61]\n"
     ]
    }
   ],
   "source": [
    "#ii\n",
    "odd_no = list(i for  i in li if i %2 != 0)\n",
    "print(\"Odd Numbers:\",odd_no)"
   ]
  },
  {
   "cell_type": "code",
   "execution_count": 101,
   "metadata": {},
   "outputs": [
    {
     "name": "stdout",
     "output_type": "stream",
     "text": [
      "Odd Numbers: [5, 7, 97, 77, 23, 73, 61]\n"
     ]
    }
   ],
   "source": [
    "#iii\n",
    "odd_no = list(filter(lambda x: True if x %2 != 0 else False , li))\n",
    "print(\"Odd Numbers:\",odd_no)"
   ]
  },
  {
   "cell_type": "raw",
   "metadata": {},
   "source": [
    "Q10: Write a UDF to return the descriptives [sum, count, min, mean, max] for a list of n number of input \n",
    "    numbers."
   ]
  },
  {
   "cell_type": "code",
   "execution_count": 123,
   "metadata": {},
   "outputs": [
    {
     "name": "stdout",
     "output_type": "stream",
     "text": [
      "{'sum': 102, 'count': 7, 'min': 12, 'mean': 14.571428571428571, 'max': 17}\n"
     ]
    }
   ],
   "source": [
    "# number = [2,4,6,8,10]\n",
    "# def descriptive(number):\n",
    "#     total_sum = 0\n",
    "#     count = 0\n",
    "#     minimum = None\n",
    "#     maximum = None\n",
    "#     for n in numbers:\n",
    "#         total_sum += n\n",
    "#         count += 1\n",
    "#         if minimum is None or n < minimum:\n",
    "#             minimum = n\n",
    "#         if maximum is None or n > maximum:\n",
    "#             maximum = n\n",
    "#         mean = total_sum / count if count > 0 else None\n",
    "\n",
    "#         return {\n",
    "#         'sum': total_sum,\n",
    "#         'count': count,\n",
    "#         'min': minimum,\n",
    "#         'mean': mean,\n",
    "#         'max': maximum\n",
    "# }\n",
    "# numbers = [2, 4, 6, 8, 10]\n",
    "# result = descriptive(numbers)\n",
    "# print(result)\n",
    "                           ## or\n",
    "def descriptive(numbers):\n",
    "    if not numbers:\n",
    "        return {'sum': None, 'count': 0, 'min': None, 'mean': None, 'max': None}\n",
    "    \n",
    "    total_sum = sum(numbers)\n",
    "    count = len(numbers)\n",
    "    minimum = min(numbers)\n",
    "    maximum = max(numbers)\n",
    "    mean = total_sum / count\n",
    "    \n",
    "    return {'sum': total_sum, 'count': count, 'min': minimum, 'mean': mean, 'max': maximum}\n",
    "\n",
    "# Example:\n",
    "numbers = [12,13,14,15,16,17,15]\n",
    "result = descriptive(numbers)\n",
    "print(result)\n",
    "\n",
    "        "
   ]
  },
  {
   "cell_type": "raw",
   "metadata": {},
   "source": [
    "Q11: Write an udf to calculate the area of different shapes\n",
    "\n",
    "Take shape and dimensions as arguments to udf as follows : \n",
    "\n",
    "1. square which has side\n",
    "2. rectangle which has length and width\n",
    "3. circle which has radius\n",
    "\n",
    "The shape should be a positional argument and it's dimensions are taken as kwargs\n",
    "\n",
    "Perform proper validation for the user inputs and then calculate area.\n",
    "\n",
    "E.g. if shape is square, ensure kwargs has \"side\" and if so, then you may return the area, else display appropriate error message like \"Please enter 'side' for a square\""
   ]
  },
  {
   "cell_type": "code",
   "execution_count": 141,
   "metadata": {},
   "outputs": [
    {
     "name": "stdout",
     "output_type": "stream",
     "text": [
      "16\n",
      "24\n",
      "28.285714285714285\n",
      "Invalid shape input\n"
     ]
    }
   ],
   "source": [
    "def Calculate_Area(shape, **kwargs):\n",
    "    if shape == \"square\":\n",
    "        if 'side' in kwargs:\n",
    "            return kwargs['side'] ** 2\n",
    "        else:\n",
    "            return \"Please enter 'side' for a square\"\n",
    "    elif shape == \"rectangle\":\n",
    "        if 'length' in kwargs and 'width' in kwargs:\n",
    "            return kwargs['length'] * kwargs['width']\n",
    "        else:\n",
    "            return \"Please enter both 'length' and 'width' for a rectangle\"\n",
    "    elif shape == \"circle\":\n",
    "        if 'radius' in kwargs:\n",
    "            return (22/7) * kwargs['radius'] ** 2\n",
    "        else:\n",
    "            return \"Please enter 'radius' for a circle\"\n",
    "    else:\n",
    "        return \"Invalid shape input\"\n",
    "\n",
    "# Example:\n",
    "print(Calculate_Area('square',side = 4 ))  \n",
    "print(Calculate_Area('rectangle', length=4, width=6))\n",
    "print(Calculate_Area('circle', radius=3))\n",
    "print(Calculate_Area('triangle', base=5))\n"
   ]
  },
  {
   "cell_type": "raw",
   "metadata": {},
   "source": [
    "Q12: Write a UDF to reconcile the values within two lists.\n",
    "    l1 = ['January', 'February', 'March', 'May', 'June', 'September', 'December']\n",
    "    l2 = ['January', 'February', 'April', 'June', 'October', 'December']\n",
    "\n",
    "Hint:\n",
    "-----\n",
    "def func(l1, l2):\n",
    "    your code here...\n",
    "    \n",
    "Output:\n",
    "{'Matched': ['January', 'February', 'June', 'December'],\n",
    "    'Only in l1': ['March', 'May', 'September'],\n",
    "        'Only in l2': ['April', 'October']}"
   ]
  },
  {
   "cell_type": "code",
   "execution_count": 9,
   "metadata": {},
   "outputs": [],
   "source": [
    "l1 = ['January', 'February', 'March', 'May', 'June', 'September', 'December']\n",
    "l2 = ['January', 'February', 'April', 'June', 'October', 'December']"
   ]
  },
  {
   "cell_type": "code",
   "execution_count": 10,
   "metadata": {},
   "outputs": [
    {
     "data": {
      "text/plain": [
       "{'matched': ['June', 'February', 'January', 'December'],\n",
       " 'Only in l1': ['September', 'May', 'March'],\n",
       " 'Only in l2': ['April', 'October']}"
      ]
     },
     "execution_count": 10,
     "metadata": {},
     "output_type": "execute_result"
    }
   ],
   "source": [
    "def reconcile(l1,l2):\n",
    "    result = {\n",
    "        'matched' : list(set(l1).intersection(set(l2))),\n",
    "        'Only in l1' : list(set(l1).difference(set(l2))),\n",
    "        'Only in l2' : list(set(l2).difference(set(l1)))}\n",
    "    return (result)\n",
    "reconcile(l1,l2)"
   ]
  },
  {
   "cell_type": "code",
   "execution_count": null,
   "metadata": {},
   "outputs": [],
   "source": [
    "Q13: write a UDF to check if a number is prime or not."
   ]
  },
  {
   "cell_type": "code",
   "execution_count": 33,
   "metadata": {},
   "outputs": [
    {
     "data": {
      "text/plain": [
       "'Number is prime'"
      ]
     },
     "execution_count": 33,
     "metadata": {},
     "output_type": "execute_result"
    }
   ],
   "source": [
    "# def is_prime(number):\n",
    "#     is_prime = True\n",
    "#     for i in range(2,number):\n",
    "#         if number %i == 0:\n",
    "#             is_prime = False\n",
    "#     return is_prime\n",
    "# is_prime(2)\n",
    "def is_prime(number):\n",
    "    for i in range(2,number):\n",
    "        if number % i == 0:\n",
    "            return \"Number is not prime\"\n",
    "    return \"Number is prime\"\n",
    "    return is_prime\n",
    "is_prime(17)"
   ]
  },
  {
   "cell_type": "code",
   "execution_count": null,
   "metadata": {},
   "outputs": [],
   "source": [
    "Q14. Write a program which can compute the factorial of a given numbers. \n",
    "#   The results should be printed in a comma-separated sequence on a single line. \n",
    "# input() function can be used for getting user(console) input\n",
    "\n",
    "\n",
    "#Suppose the input is supplied to the program:  8  \n",
    "#Then, the output should be:  40320 \n",
    "#Hints: In case of input data being supplied to the question, it should be assumed to be a console input. \n"
   ]
  },
  {
   "cell_type": "code",
   "execution_count": 65,
   "metadata": {},
   "outputs": [
    {
     "name": "stdin",
     "output_type": "stream",
     "text": [
      "Enter a number:  8\n"
     ]
    },
    {
     "name": "stdout",
     "output_type": "stream",
     "text": [
      "The Factorial of 8 is 40320\n"
     ]
    }
   ],
   "source": [
    "# def fact_no(n):\n",
    "#     fact = 1\n",
    "#     num = 1\n",
    "#     while num <= n:\n",
    "#         fact *= num\n",
    "#         num += 1\n",
    "#     return f'The Factorial of {number} is {fact}'\n",
    "\n",
    "# number = int(input(\"Enter a number: \"))\n",
    "\n",
    "# fact_no(number)\n",
    "## O\n",
    "number = int(input(\"Enter a number: \"))\n",
    "\n",
    "fact = 1\n",
    "for i in range(1, number + 1):\n",
    "    fact *= i\n",
    "\n",
    "print(f'The Factorial of {number} is {fact}')\n"
   ]
  },
  {
   "cell_type": "raw",
   "metadata": {
    "collapsed": true,
    "jupyter": {
     "outputs_hidden": true
    }
   },
   "source": [
    "Q15. With a given integral number n, write a program to generate a dictionary that contains (i, i*i) such that is an integral number between 1 and n (both included). and then the program should print the dictionary.\n",
    "\n",
    "#Suppose the following input is supplied to the program: 8\n",
    "#Then, the output should be: {1: 1, 2: 4, 3: 9, 4: 16, 5: 25, 6: 36, 7: 49, 8: 64}\n",
    "#Hints: In case of input data being supplied to the question, it should be assumed to be a console input. Consider using dict()\n",
    "\n"
   ]
  },
  {
   "cell_type": "code",
   "execution_count": 66,
   "metadata": {},
   "outputs": [
    {
     "name": "stdin",
     "output_type": "stream",
     "text": [
      "Enter a number:  8\n"
     ]
    },
    {
     "name": "stdout",
     "output_type": "stream",
     "text": [
      "{1: 1, 2: 4, 3: 9, 4: 16, 5: 25, 6: 36, 7: 49, 8: 64}\n"
     ]
    }
   ],
   "source": [
    "# def generate_dict(n):\n",
    "#     return {x : x**2 for x in range(1,n+1)}\n",
    "# n = int(input(\"Enter a Number:\"))\n",
    "# generate_dict(n)\n",
    "\n",
    "##OR##\n",
    "n = int(input(\"Enter a number: \"))\n",
    "\n",
    "result_dict = {x: x**2 for x in range(1, n+1)}\n",
    "print(result_dict)\n"
   ]
  },
  {
   "cell_type": "raw",
   "metadata": {
    "collapsed": true,
    "jupyter": {
     "outputs_hidden": true
    }
   },
   "source": [
    "Q16. Write a program which accepts a sequence of comma-separated numbers from console and generate a list and a tuple which contains every number.\n",
    "#Suppose the following input is supplied to the program: 34,67,55,33,12,98\n",
    "    #Then, the output should be: ['34', '67', '55', '33', '12', '98'] ('34', '67', '55', '33', '12', '98')\n",
    "\n",
    "#Hints: In case of input data being supplied to the question, it should be assumed to be a console input. you may use tuple() method to convert list to tuple\n"
   ]
  },
  {
   "cell_type": "code",
   "execution_count": 78,
   "metadata": {},
   "outputs": [
    {
     "name": "stdin",
     "output_type": "stream",
     "text": [
      "Enter the number 34,67,55,33,12,98\n"
     ]
    },
    {
     "name": "stdout",
     "output_type": "stream",
     "text": [
      "['34', '67', '55', '33', '12', '98'] ('34', '67', '55', '33', '12', '98')\n"
     ]
    }
   ],
   "source": [
    "numbers = input(\"Enter the number\")\n",
    "my_list = numbers.split(',')\n",
    "my_tuple = tuple(my_list)\n",
    "\n",
    "print(my_list,my_tuple)\n"
   ]
  },
  {
   "cell_type": "raw",
   "metadata": {
    "collapsed": true,
    "jupyter": {
     "outputs_hidden": true
    }
   },
   "source": [
    "Q17. Write a program that accepts a comma separated sequence of words as input and \n",
    "# prints the words in a comma-separated sequence after sorting them alphabetically.\n",
    "\n",
    "# Suppose the following input is supplied to the program: without,hello,bag,world\n",
    "# Then, the output should be: bag,hello,without,world\n",
    "\n",
    "#Hints: In case of input data being supplied to the question, it should be assumed to be a console input.\n"
   ]
  },
  {
   "cell_type": "code",
   "execution_count": 110,
   "metadata": {},
   "outputs": [
    {
     "name": "stdin",
     "output_type": "stream",
     "text": [
      "Enter comma-separated words: without,hello,bag,world\n"
     ]
    },
    {
     "name": "stdout",
     "output_type": "stream",
     "text": [
      "bag,hello,without,world\n"
     ]
    }
   ],
   "source": [
    "word = input(\"Enter comma-separated words:\").split(',')\n",
    "sorted_word = ','.join(sorted(word))\n",
    "print(sorted_word)"
   ]
  },
  {
   "cell_type": "raw",
   "metadata": {
    "collapsed": true,
    "jupyter": {
     "outputs_hidden": true
    }
   },
   "source": [
    "Q18. Write a program that accepts a sequence of whitespace separated words \n",
    "# as input and prints the words after removing all duplicate words and sorting them alphanumerically.\n",
    "# Suppose the following input is supplied to the program: hello world and practice makes perfect and hello world again\n",
    "# Then, the output should be: again and hello makes perfect practice world\n",
    "\n",
    "#Hints: In case of input data being supplied to the question, it should be assumed to be a console input.\n",
    "#We use set container to remove duplicated data automatically and then use sorted() to sort the data.\n"
   ]
  },
  {
   "cell_type": "code",
   "execution_count": 2,
   "metadata": {},
   "outputs": [
    {
     "name": "stdin",
     "output_type": "stream",
     "text": [
      "Enter whitespace-separated words:  hello world and practice makes perfect and hello world again\n"
     ]
    },
    {
     "name": "stdout",
     "output_type": "stream",
     "text": [
      "again and hello makes perfect practice world\n"
     ]
    }
   ],
   "source": [
    "# word = input(\"Enter a whitespace separated words:\")\n",
    "# result =set(sorted(word.split(\" \")))\n",
    "# result_str = ' '.join(result)\n",
    "# print(result_str)\n",
    "# OR #\n",
    "words = input(\"Enter whitespace-separated words: \")\n",
    "result = ' '.join(sorted(set(words.split())))\n",
    "print(result)\n"
   ]
  },
  {
   "cell_type": "code",
   "execution_count": null,
   "metadata": {},
   "outputs": [],
   "source": [
    "Q19. Write a program that accepts a sentence and calculate the number of upper case\n",
    "# letters and lower case letters.\n",
    "#Suppose the following input is supplied to the program: Hello world!\n",
    "#Then, the output should be: UPPER CASE 1 LOWER CASE 9\n",
    "\n",
    "#Hints: In case of input data being supplied to the question, it should be assumed to be a console input.\n"
   ]
  },
  {
   "cell_type": "code",
   "execution_count": 3,
   "metadata": {},
   "outputs": [
    {
     "name": "stdin",
     "output_type": "stream",
     "text": [
      "Enter a sentence:  Hello world!\n"
     ]
    },
    {
     "name": "stdout",
     "output_type": "stream",
     "text": [
      "UPPER CASE 1 LOWER CASE 9\n"
     ]
    }
   ],
   "source": [
    "sentence = input(\"Enter a sentence: \")\n",
    "upper_count = 0\n",
    "lower_count = 0\n",
    "\n",
    "for i in sentence:\n",
    "    if i.isupper():\n",
    "        upper_count += 1\n",
    "    elif i.islower():\n",
    "        lower_count += 1\n",
    "\n",
    "print(\"UPPER CASE\", upper_count, \"LOWER CASE\", lower_count)\n"
   ]
  },
  {
   "cell_type": "code",
   "execution_count": null,
   "metadata": {},
   "outputs": [],
   "source": [
    "Q20. Write a program that takes a string and returns reversed string. i.e. if input is \"abcd123\" output should be \"321dcba\""
   ]
  },
  {
   "cell_type": "code",
   "execution_count": 3,
   "metadata": {},
   "outputs": [
    {
     "name": "stdin",
     "output_type": "stream",
     "text": [
      "Enter the string: \"abcd123\"\n"
     ]
    },
    {
     "name": "stdout",
     "output_type": "stream",
     "text": [
      "\"abcd123\" : \"321dcba\"\n"
     ]
    }
   ],
   "source": [
    "string = input(\"Enter the string:\")\n",
    "#reverse_str = string[::-1]\n",
    "reverse_str =''.join(reversed(string))\n",
    "print(f'{string} : {reverse_str}')"
   ]
  },
  {
   "cell_type": "code",
   "execution_count": null,
   "metadata": {},
   "outputs": [],
   "source": []
  }
 ],
 "metadata": {
  "kernelspec": {
   "display_name": "Python 3 (ipykernel)",
   "language": "python",
   "name": "python3"
  },
  "language_info": {
   "codemirror_mode": {
    "name": "ipython",
    "version": 3
   },
   "file_extension": ".py",
   "mimetype": "text/x-python",
   "name": "python",
   "nbconvert_exporter": "python",
   "pygments_lexer": "ipython3",
   "version": "3.11.7"
  },
  "varInspector": {
   "cols": {
    "lenName": 16,
    "lenType": 16,
    "lenVar": 40
   },
   "kernels_config": {
    "python": {
     "delete_cmd_postfix": "",
     "delete_cmd_prefix": "del ",
     "library": "var_list.py",
     "varRefreshCmd": "print(var_dic_list())"
    },
    "r": {
     "delete_cmd_postfix": ") ",
     "delete_cmd_prefix": "rm(",
     "library": "var_list.r",
     "varRefreshCmd": "cat(var_dic_list()) "
    }
   },
   "types_to_exclude": [
    "module",
    "function",
    "builtin_function_or_method",
    "instance",
    "_Feature"
   ],
   "window_display": false
  }
 },
 "nbformat": 4,
 "nbformat_minor": 4
}
